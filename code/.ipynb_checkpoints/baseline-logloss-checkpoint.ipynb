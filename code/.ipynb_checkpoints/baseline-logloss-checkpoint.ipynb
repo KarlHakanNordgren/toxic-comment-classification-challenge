{
 "cells": [
  {
   "cell_type": "code",
   "execution_count": 6,
   "metadata": {
    "collapsed": true
   },
   "outputs": [],
   "source": [
    "################################################################################\n",
    "################################################################################\n",
    "## \n",
    "\n",
    "import pandas as pd\n",
    "\n",
    "################################################################################\n",
    "################################################################################\n",
    "##\n",
    "\n",
    "response_df = pd.read_pickle(\"../output/response_df.pkl\")"
   ]
  },
  {
   "cell_type": "code",
   "execution_count": 7,
   "metadata": {},
   "outputs": [
    {
     "data": {
      "text/plain": [
       "1.2661469125640792"
      ]
     },
     "execution_count": 7,
     "metadata": {},
     "output_type": "execute_result"
    }
   ],
   "source": [
    "################################################################################\n",
    "################################################################################\n",
    "## \n",
    "\n",
    "from sklearn.metrics import log_loss\n",
    "import numpy as np\n",
    "\n",
    "################################################################################\n",
    "################################################################################\n",
    "## \n",
    "\n",
    "# the most common category is negative\n",
    "response_df.sum()/response_df.shape[0]\n",
    "\n",
    "# so naive guess probability is 0\n",
    "y_pred_fake = np.zeros(response_df.shape[0])\n",
    "\n",
    "response_df.apply(lambda x: log_loss(x, y_pred_fake)).mean()\n"
   ]
  },
  {
   "cell_type": "code",
   "execution_count": null,
   "metadata": {
    "collapsed": true
   },
   "outputs": [],
   "source": []
  }
 ],
 "metadata": {
  "kernelspec": {
   "display_name": "Python 3",
   "language": "python",
   "name": "python3"
  },
  "language_info": {
   "codemirror_mode": {
    "name": "ipython",
    "version": 3
   },
   "file_extension": ".py",
   "mimetype": "text/x-python",
   "name": "python",
   "nbconvert_exporter": "python",
   "pygments_lexer": "ipython3",
   "version": "3.6.3"
  }
 },
 "nbformat": 4,
 "nbformat_minor": 2
}
