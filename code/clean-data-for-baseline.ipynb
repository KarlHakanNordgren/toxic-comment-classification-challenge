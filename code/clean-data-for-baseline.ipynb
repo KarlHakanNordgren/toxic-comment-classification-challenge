{
 "cells": [
  {
   "cell_type": "code",
   "execution_count": 6,
   "metadata": {},
   "outputs": [],
   "source": [
    "################################################################################\n",
    "################################################################################\n",
    "## \n",
    "\n",
    "import pandas as pd\n",
    "\n",
    "################################################################################\n",
    "################################################################################\n",
    "##\n",
    "\n",
    "train_df = pd.read_csv(\"../input/train.csv\")\n",
    "train_df.to_pickle(\"../output/train_df.pkl\", protocol = 2)\n",
    "\n",
    "response_df = train_df[['toxic', 'severe_toxic', 'obscene', 'threat', 'insult', 'identity_hate']]\n",
    "response_df.to_pickle(\"../output/response_df.pkl\", protocol = 2)\n"
   ]
  },
  {
   "cell_type": "code",
   "execution_count": 3,
   "metadata": {
    "collapsed": true
   },
   "outputs": [],
   "source": [
    "################################################################################\n",
    "################################################################################\n",
    "##\n",
    "\n",
    "MAX_WORD_FEATURES = 100"
   ]
  },
  {
   "cell_type": "code",
   "execution_count": 4,
   "metadata": {
    "collapsed": true
   },
   "outputs": [],
   "source": [
    "######################################################\n",
    "######################################################\n",
    "## \n",
    "\n",
    "import re\n",
    "from string import punctuation\n",
    "import nltk\n",
    "from nltk.corpus import stopwords\n",
    "from nltk.stem.porter import PorterStemmer\n",
    "from sklearn.feature_extraction.text import TfidfVectorizer\n",
    "\n",
    "######################################################\n",
    "######################################################\n",
    "##\n",
    "\n",
    "STEMMER = PorterStemmer()\n",
    "NON_LETTER_RE = re.compile(r'\\W+')\n",
    "WHITESPACE_RE = re.compile(r'\\s+')\n",
    "\n",
    "def preprocess(text):\n",
    "    text = text.lower()\n",
    "    text = NON_LETTER_RE.sub(' ', text)\n",
    "    return WHITESPACE_RE.sub(' ', text)\n",
    "\n",
    "def stem_tokens(tokens):\n",
    "    stemmed = []\n",
    "    for item in tokens:\n",
    "        stemmed.append(STEMMER.stem(item))\n",
    "    return stemmed\n",
    "\n",
    "def text_tokenizer(text):\n",
    "    text_no_punctuation_or_unicode = preprocess(text)\n",
    "    tokens = nltk.word_tokenize(text_no_punctuation_or_unicode)\n",
    "    stems = tokens\n",
    "    #stems = stem_tokens(tokens)\n",
    "    return stems\n",
    "\n",
    "text_vectorizer = TfidfVectorizer(\n",
    "    tokenizer = text_tokenizer,\n",
    "    stop_words = set(stopwords.words('english')).union(set(punctuation)),\n",
    "    ngram_range = (1, 3),\n",
    "    max_features = MAX_WORD_FEATURES\n",
    ")\n",
    "\n",
    "features_processed_crs = text_vectorizer.fit_transform(train_df['comment_text'])\n"
   ]
  },
  {
   "cell_type": "code",
   "execution_count": 5,
   "metadata": {
    "collapsed": true
   },
   "outputs": [],
   "source": [
    "######################################################\n",
    "######################################################\n",
    "## \n",
    "\n",
    "import numpy as np\n",
    "\n",
    "np.save(\"../output/features_processed_array.npy\", features_processed_crs.toarray())"
   ]
  },
  {
   "cell_type": "code",
   "execution_count": null,
   "metadata": {
    "collapsed": true
   },
   "outputs": [],
   "source": []
  }
 ],
 "metadata": {
  "kernelspec": {
   "display_name": "Python 3",
   "language": "python",
   "name": "python3"
  },
  "language_info": {
   "codemirror_mode": {
    "name": "ipython",
    "version": 3
   },
   "file_extension": ".py",
   "mimetype": "text/x-python",
   "name": "python",
   "nbconvert_exporter": "python",
   "pygments_lexer": "ipython3",
   "version": "3.6.3"
  }
 },
 "nbformat": 4,
 "nbformat_minor": 2
}
